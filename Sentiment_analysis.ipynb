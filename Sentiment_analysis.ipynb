{
 "cells": [
  {
   "cell_type": "code",
   "execution_count": null,
   "metadata": {},
   "outputs": [],
   "source": [
    "#import modules\n",
    "from textblob import TextBlob\n",
    "#from wordcloud import WordCloud\n",
    "import pandas as pd\n",
    "import numpy as np\n",
    "import re\n",
    "import matplotlib.pyplot as plt\n",
    "plt.style.use('fivethirtyeight')"
   ]
  },
  {
   "cell_type": "code",
   "execution_count": null,
   "metadata": {},
   "outputs": [],
   "source": [
    "df = pd.read_csv(\"tweet.csv\")"
   ]
  },
  {
   "cell_type": "code",
   "execution_count": null,
   "metadata": {},
   "outputs": [],
   "source": [
    "df.head()"
   ]
  },
  {
   "cell_type": "code",
   "execution_count": null,
   "metadata": {},
   "outputs": [],
   "source": [
    "df = df[['id','tweet']]"
   ]
  },
  {
   "cell_type": "code",
   "execution_count": null,
   "metadata": {},
   "outputs": [],
   "source": [
    "df.head()"
   ]
  },
  {
   "cell_type": "code",
   "execution_count": null,
   "metadata": {},
   "outputs": [],
   "source": [
    "# Create a function to clean the tweets\n",
    "def cleanTxt(text):\n",
    " text = re.sub('@[A-Za-z0–9]+', '', text) #Removing @mentions\n",
    " text = re.sub('#', '', text) # Removing '#' hash tag\n",
    " text = re.sub('RT[\\s]+', '', text) # Removing RT\n",
    " text = re.sub('https?:\\/\\/\\S+', '', text) # Removing hyperlink\n",
    " \n",
    " return text\n",
    "\n",
    "\n",
    "# Clean the tweets\n",
    "df['Tweets'] = df['tweet'].apply(cleanTxt)\n",
    "\n",
    "# Show the cleaned tweets\n",
    "df"
   ]
  },
  {
   "cell_type": "code",
   "execution_count": null,
   "metadata": {},
   "outputs": [],
   "source": [
    "df = df[['id','Tweets']]"
   ]
  },
  {
   "cell_type": "code",
   "execution_count": null,
   "metadata": {},
   "outputs": [],
   "source": [
    "df.head()"
   ]
  },
  {
   "cell_type": "code",
   "execution_count": null,
   "metadata": {},
   "outputs": [],
   "source": [
    "df = df.head(20)"
   ]
  },
  {
   "cell_type": "code",
   "execution_count": null,
   "metadata": {},
   "outputs": [],
   "source": [
    "# Create a function to get the subjectivity\n",
    "def getSubjectivity(text):\n",
    "   return TextBlob(text).sentiment.subjectivity\n",
    "\n",
    "# Create a function to get the polarity\n",
    "def getPolarity(text):\n",
    "   return  TextBlob(text).sentiment.polarity\n",
    "\n",
    "\n",
    "# Create two new columns 'Subjectivity' & 'Polarity'\n",
    "df['Subjectivity'] = df['Tweets'].apply(getSubjectivity)\n",
    "df['Polarity'] = df['Tweets'].apply(getPolarity)\n",
    "\n",
    "# Show the new dataframe with columns 'Subjectivity' & 'Polarity'\n",
    "df"
   ]
  },
  {
   "cell_type": "code",
   "execution_count": null,
   "metadata": {},
   "outputs": [],
   "source": [
    "# Create a function to compute negative (-1), neutral (0) and positive (+1) analysis\n",
    "def getAnalysis(score):\n",
    "    \n",
    "    if score < 0:\n",
    "      return 'Negative'\n",
    "    elif score == 0:\n",
    "      return 'Neutral'\n",
    "    else:\n",
    "      return 'Positive'\n",
    "df['Analysis'] = df['Polarity'].apply(getAnalysis)\n",
    "# Show the dataframe\n",
    "df"
   ]
  },
  {
   "cell_type": "code",
   "execution_count": null,
   "metadata": {},
   "outputs": [],
   "source": [
    "# Printing positive tweets \n",
    "print('Printing positive tweets:\\n')\n",
    "j=1\n",
    "sortedDF = df.sort_values(by=['Polarity']) #Sort the tweets\n",
    "for i in range(0, sortedDF.shape[0] ):\n",
    "  if( sortedDF['Analysis'][i] == 'Positive'):\n",
    "    print(str(j) + ') '+ sortedDF['Tweets'][i])\n",
    "    print()\n",
    "    j= j+1"
   ]
  },
  {
   "cell_type": "code",
   "execution_count": null,
   "metadata": {},
   "outputs": [],
   "source": [
    "# Printing negative tweets  \n",
    "print('Printing negative tweets:\\n')\n",
    "j=1\n",
    "sortedDF = df.sort_values(by=['Polarity'],ascending=False) #Sort the tweets\n",
    "for i in range(0, sortedDF.shape[0] ):\n",
    "  if( sortedDF['Analysis'][i] == 'Negative'):\n",
    "    print(str(j) + ') '+sortedDF['Tweets'][i])\n",
    "    print()\n",
    "    j=j+1"
   ]
  },
  {
   "cell_type": "code",
   "execution_count": null,
   "metadata": {},
   "outputs": [],
   "source": [
    "# Plotting \n",
    "plt.figure(figsize=(8,6)) \n",
    "for i in range(0, df.shape[0]):\n",
    "  plt.scatter(df[\"Polarity\"][i], df[\"Subjectivity\"][i], color='Blue') \n",
    "# plt.scatter(x,y,color)   \n",
    "plt.title('Sentiment Analysis') \n",
    "plt.xlabel('Polarity') \n",
    "plt.ylabel('Subjectivity') \n",
    "plt.show()"
   ]
  },
  {
   "cell_type": "code",
   "execution_count": null,
   "metadata": {},
   "outputs": [],
   "source": [
    "# Print the percentage of positive tweets\n",
    "ptweets = df[df.Analysis == 'Positive']\n",
    "ptweets = ptweets['Tweets']\n",
    "ptweets\n",
    "\n",
    "round( (ptweets.shape[0] / df.shape[0]) * 100 , 1)"
   ]
  },
  {
   "cell_type": "code",
   "execution_count": null,
   "metadata": {},
   "outputs": [],
   "source": [
    "# Print the percentage of negative tweets\n",
    "ntweets = df[df.Analysis == 'Negative']\n",
    "ntweets = ntweets['Tweets']\n",
    "ntweets\n",
    "\n",
    "round( (ntweets.shape[0] / df.shape[0]) * 100, 1)"
   ]
  },
  {
   "cell_type": "code",
   "execution_count": null,
   "metadata": {},
   "outputs": [],
   "source": [
    "# Print the percentage of negative tweets\n",
    "ntweets = df[df.Analysis == 'Neutral']\n",
    "ntweets = ntweets['Tweets']\n",
    "ntweets\n",
    "\n",
    "round( (ntweets.shape[0] / df.shape[0]) * 100, 1)"
   ]
  },
  {
   "cell_type": "code",
   "execution_count": null,
   "metadata": {},
   "outputs": [],
   "source": [
    "# Show the value counts\n",
    "df['Analysis'].value_counts()\n"
   ]
  },
  {
   "cell_type": "code",
   "execution_count": null,
   "metadata": {},
   "outputs": [],
   "source": [
    "# Plotting and visualizing the counts\n",
    "plt.title('Sentiment Analysis')\n",
    "plt.xlabel('Sentiment')\n",
    "plt.ylabel('Counts')\n",
    "df['Analysis'].value_counts().plot(kind = 'bar')\n",
    "plt.show()"
   ]
  },
  {
   "cell_type": "code",
   "execution_count": null,
   "metadata": {},
   "outputs": [],
   "source": []
  }
 ],
 "metadata": {
  "kernelspec": {
   "display_name": "Python (myenv)",
   "language": "python",
   "name": "myenv"
  },
  "language_info": {
   "codemirror_mode": {
    "name": "ipython",
    "version": 3
   },
   "file_extension": ".py",
   "mimetype": "text/x-python",
   "name": "python",
   "nbconvert_exporter": "python",
   "pygments_lexer": "ipython3",
   "version": "3.8.5"
  }
 },
 "nbformat": 4,
 "nbformat_minor": 4
}
